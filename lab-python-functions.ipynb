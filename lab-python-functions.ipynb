{
 "cells": [
  {
   "cell_type": "markdown",
   "id": "25d7736c-ba17-4aff-b6bb-66eba20fbf4e",
   "metadata": {},
   "source": [
    "# Lab | Functions"
   ]
  },
  {
   "cell_type": "markdown",
   "id": "0c581062-8967-4d93-b06e-62833222f930",
   "metadata": {
    "tags": []
   },
   "source": [
    "## Exercise: Managing Customer Orders with Functions\n",
    "\n",
    "In the previous exercise, you improved the code for managing customer orders by using loops and flow control. Now, let's take it a step further and refactor the code by introducing functions.\n",
    "\n",
    "Follow the steps below to complete the exercise:\n",
    "\n",
    "1. Define a function named `initialize_inventory` that takes `products` as a parameter. Inside the function, implement the code for initializing the inventory dictionary using a loop and user input.\n",
    "\n",
    "2. Define a function named `get_customer_orders` that takes no parameters. Inside the function, implement the code for prompting the user to enter the product names using a loop. The function should return the `customer_orders` set.\n",
    "\n",
    "3. Define a function named `update_inventory` that takes `customer_orders` and `inventory` as parameters. Inside the function, implement the code for updating the inventory dictionary based on the customer orders.\n",
    "\n",
    "4. Define a function named `calculate_order_statistics` that takes `customer_orders` and `products` as parameters. Inside the function, implement the code for calculating the order statistics (total products ordered, and percentage of unique products ordered). The function should return these values.\n",
    "\n",
    "5. Define a function named `print_order_statistics` that takes `order_statistics` as a parameter. Inside the function, implement the code for printing the order statistics.\n",
    "\n",
    "6. Define a function named `print_updated_inventory` that takes `inventory` as a parameter. Inside the function, implement the code for printing the updated inventory.\n",
    "\n",
    "7. Call the functions in the appropriate sequence to execute the program and manage customer orders.\n",
    "\n",
    "Hints for functions:\n",
    "\n",
    "- Consider the input parameters required for each function and their return values.\n",
    "- Utilize function parameters and return values to transfer data between functions.\n",
    "- Test your functions individually to ensure they work correctly.\n",
    "\n",
    "\n"
   ]
  },
  {
   "cell_type": "code",
   "execution_count": 14,
   "id": "aa345efd-9d2d-4214-92ac-2ac39ec20443",
   "metadata": {},
   "outputs": [
    {
     "name": "stdout",
     "output_type": "stream",
     "text": [
      "Please enter a valid number for quantity.\n",
      "The initialized inventory is:  {'t-shirt': 7, 'mug': 7, 'hat': 7, 'book': 7, 'keychain': 7}\n",
      "{'t-shirt': 7, 'mug': 7, 'hat': 7, 'book': 7, 'keychain': 7}\n"
     ]
    }
   ],
   "source": [
    "#1 \n",
    "def initialize_inventory(products):\n",
    "    inventory = {}\n",
    "    for product in products:\n",
    "        while True:\n",
    "            try:\n",
    "                quantity = int(input(f\"Enter the quantity of {product}: \"))\n",
    "                if quantity < 0:\n",
    "                    print(\"Please enter a positive number for quantity\")\n",
    "                else:\n",
    "                    inventory[product] = quantity  # Adding the product and quantity to the inventory dictionary\n",
    "                    break  # Break the loop if the user enters a valid quantity\n",
    "            except ValueError:\n",
    "                print(\"Please enter a valid number for quantity.\")\n",
    "    print(\"The initialized inventory is: \", inventory)\n",
    "    return inventory  # Returning the initialized inventory dictionary\n",
    "\n",
    "# List of available products\n",
    "products = [\"t-shirt\", \"mug\", \"hat\", \"book\", \"keychain\"]\n",
    "\n",
    "# Initialize the inventory\n",
    "inventory = initialize_inventory(products)\n",
    "print(inventory)"
   ]
  },
  {
   "cell_type": "code",
   "execution_count": 15,
   "id": "2a56979c",
   "metadata": {},
   "outputs": [
    {
     "name": "stdout",
     "output_type": "stream",
     "text": [
      "Updated inventory:\n",
      "t-shirt: 7\n",
      "mug: 6\n",
      "hat: 7\n",
      "book: 7\n",
      "keychain: 7\n"
     ]
    }
   ],
   "source": [
    "def get_customer_orders():\n",
    "    customer_orders = set()  # initializing an empty set to store the customer orders\n",
    "    while True:\n",
    "        product = input(\"Enter the name of a product to order: \").lower()\n",
    "        if product in products:  # Using products list instead of inventory\n",
    "            customer_orders.add(product)\n",
    "        else:\n",
    "            print(\"Sorry, that product is not available.\")\n",
    "        another = input(\"Would you like to add another product? (yes/no): \").lower()\n",
    "        if another != 'yes':\n",
    "            break\n",
    "    return customer_orders\n",
    "\n",
    "# Get customer orders\n",
    "customer_orders = get_customer_orders()\n",
    "\n",
    "# Update inventory only for ordered products\n",
    "for product in customer_orders:\n",
    "    if inventory.get(product, 0) > 0:\n",
    "        inventory[product] -= 1\n",
    "    else:\n",
    "        print(f\"Sorry, {product} is out of stock.\")\n",
    "\n",
    "# Display the updated inventory\n",
    "print(\"Updated inventory:\")\n",
    "for item, quantity in inventory.items():\n",
    "    print(f\"{item}: {quantity}\")"
   ]
  },
  {
   "cell_type": "code",
   "execution_count": 17,
   "id": "36a466fe-fcd3-43f0-a88a-4ef56da1bbe7",
   "metadata": {},
   "outputs": [
    {
     "name": "stdout",
     "output_type": "stream",
     "text": [
      "Updated inventory:  {'t-shirt': 7, 'mug': 4, 'hat': 7, 'book': 7, 'keychain': 7}\n",
      "t-shirt: 7\n",
      "mug: 4\n",
      "hat: 7\n",
      "book: 7\n",
      "keychain: 7\n"
     ]
    }
   ],
   "source": [
    "# 3. Define a function named update_inventory that takes customer_orders and inventory as parameters. Inside the function, implement the code for updating the inventory dictionary based on the customer orders.\n",
    "\n",
    "def update_inventory(customer_orders, inventory):\n",
    "    for product in customer_orders: # initilising a for loop, an empty set to store the customer orders\n",
    "            if product in inventory and inventory[product] > 0:\n",
    "                   inventory[product] -= 1\n",
    "            else: \n",
    "                  print(f\"Sorry, {product} is not in our inventory.\")\n",
    "\n",
    "# initilising an empty set for customer orders\n",
    "customer_orders = get_customer_orders()\n",
    "\n",
    "# Here I am updating the inventory based on the customer orders\n",
    "update_inventory(customer_orders, inventory)\n",
    "\n",
    "# Here I am displaying the updated inventory after the customer orders are processed\n",
    "print(\"Updated inventory: \", inventory)\n",
    "for item, quantity in inventory.items(): \n",
    "      print(f\"{item}: {quantity}\")\n",
    "        "
   ]
  },
  {
   "cell_type": "code",
   "execution_count": 18,
   "id": "0034fe5f-145d-48e3-a55f-ba469a4cff5e",
   "metadata": {},
   "outputs": [
    {
     "name": "stdout",
     "output_type": "stream",
     "text": [
      "Total products ordered: 1\n",
      "Percentage of unique products ordered: 20.00%\n",
      "Updated inventory:\n",
      "t-shirt: 7\n",
      "mug: 3\n",
      "hat: 7\n",
      "book: 7\n",
      "keychain: 7\n"
     ]
    }
   ],
   "source": [
    "# 4. Define a function named calculate_order_statistics that takes customer_orders and products as parameters. Inside the function, implement the code for calculating the order statistics (total products ordered, and percentage of unique products ordered). The function should return these values.\n",
    "\n",
    "def calculate_order_statistics (customer_orders, products): \n",
    "    total_products_ordered = len(customer_orders) # calculating the total products ordered \n",
    "    unique_prodcuts_ordered = len(customer_orders) # calculating the unique products ordered\n",
    "    percentage_unique_products = (unique_prodcuts_ordered/len(products) *100) \n",
    "    return total_products_ordered, percentage_unique_products #calculating the percentage of unique products ordered\n",
    "\n",
    "customer_orders = get_customer_orders()\n",
    "\n",
    "update_inventory(customer_orders, inventory)\n",
    "\n",
    "total_ordered, unique_percentage = calculate_order_statistics(customer_orders, products)\n",
    "print(f\"Total products ordered: {total_ordered}\")\n",
    "print(f\"Percentage of unique products ordered: {unique_percentage:.2f}%\")\n",
    "\n",
    "print(\"Updated inventory:\")\n",
    "for item, quantity in inventory.items():\n",
    "    print(f\"{item}: {quantity}\")\n"
   ]
  },
  {
   "cell_type": "code",
   "execution_count": null,
   "id": "ec405259-5696-41f8-84d6-6e16581b0d37",
   "metadata": {},
   "outputs": [],
   "source": [
    "# 5. Define a function named print_order_statistics that takes order_statistics as a parameter. Inside the function, implement the code for printing the order statistics.\n"
   ]
  },
  {
   "cell_type": "code",
   "execution_count": 2,
   "id": "0e809dbd-1d94-4014-98fd-4dc7e1b5912e",
   "metadata": {},
   "outputs": [],
   "source": [
    "# 6. Define a function named print_updated_inventory that takes inventory as a parameter. Inside the function, implement the code for printing the updated inventory.\n"
   ]
  },
  {
   "cell_type": "code",
   "execution_count": null,
   "id": "805e31a4-ecbb-4ce4-8607-f02b17830463",
   "metadata": {},
   "outputs": [],
   "source": [
    "# 7. Call the functions in the appropriate sequence to execute the program and manage customer orders."
   ]
  }
 ],
 "metadata": {
  "kernelspec": {
   "display_name": "base",
   "language": "python",
   "name": "python3"
  },
  "language_info": {
   "codemirror_mode": {
    "name": "ipython",
    "version": 3
   },
   "file_extension": ".py",
   "mimetype": "text/x-python",
   "name": "python",
   "nbconvert_exporter": "python",
   "pygments_lexer": "ipython3",
   "version": "3.12.7"
  }
 },
 "nbformat": 4,
 "nbformat_minor": 5
}
