{
 "cells": [
  {
   "cell_type": "markdown",
   "metadata": {},
   "source": [
    "To do:\n",
    "1. Define a function named `initialize_inventory` that takes `products` as a parameter. Inside the function, implement the code for initializing the inventory dictionary using a loop and user input.\n",
    "2. Define a function named `get_customer_orders` that takes no parameters. Inside the function, implement the code for prompting the user to enter the product names using a loop. The function should return the `customer_orders` set.\n",
    "3. Define a function named `update_inventory` that takes `customer_orders` and `inventory` as parameters. Inside the function, implement the code for updating the inventory dictionary based on the customer orders.\n",
    "4. Define a function named `calculate_order_statistics` that takes `customer_orders` and `products` as parameters. Inside the function, implement the code for calculating the order statistics (total products ordered, and percentage of unique products ordered). The function should return these values.\n",
    "5. Define a function named `print_order_statistics` that takes `order_statistics` as a parameter. Inside the function, implement the code for printing the order statistics.\n",
    "6. Define a function named `print_updated_inventory` that takes `inventory` as a parameter. Inside the function, implement the code for printing the updated inventory.\n",
    "7. Call the functions in the appropriate sequence to execute the program and manage customer orders."
   ]
  },
  {
   "cell_type": "code",
   "execution_count": 96,
   "metadata": {},
   "outputs": [
    {
     "name": "stdout",
     "output_type": "stream",
     "text": [
      "Your Inventory is: {'mug': 10}\n"
     ]
    }
   ],
   "source": [
    "final_products = []\n",
    "inventory = {}\n",
    "customer_orders = {}\n",
    "\n",
    "# Function to initilize inventory\n",
    "def initialize_inventory(products): \n",
    "    for product in products.split():\n",
    "        amount = int(input(f\"Please enter the amount for the {product}: \"))\n",
    "        inventory[product] = amount\n",
    "        final_products.append(product)\n",
    "    \n",
    "    choice = input(\"Do you want to add more? (yes/no)\")\n",
    "    if choice == \"yes\":\n",
    "            more_products = input(\"Please add more products.\").lower().strip()\n",
    "            initialize_inventory(more_products)\n",
    "    else: \n",
    "        return inventory \n",
    "\n",
    "# List of available products\n",
    "products = input(\"Please add products: \") .lower().strip()           \n",
    "initialize_inventory(products)\n",
    "print(f\"Your Inventory is:\", inventory)"
   ]
  },
  {
   "cell_type": "code",
   "execution_count": 97,
   "metadata": {},
   "outputs": [
    {
     "name": "stdout",
     "output_type": "stream",
     "text": [
      "Your order is:  {}\n",
      "What products do you want to order? We have the following: mug\n",
      "Your order is: {'mug': 1}\n"
     ]
    }
   ],
   "source": [
    "# Function to get customer orders\n",
    "\n",
    "def get_customer_order(inventory):\n",
    "    while True:\n",
    "        print(f\"What products do you want to order? We have the following: {', '.join(inventory.keys())}\")\n",
    "        customer_order_list = input(\"Enter the product names separated by spaces: \").split()\n",
    "        \n",
    "        for product in customer_order_list:\n",
    "            if product not in inventory:\n",
    "                print(f\"Sorry, we don't have {product}.\")\n",
    "                continue\n",
    "            \n",
    "            while True:\n",
    "                try:\n",
    "                    customer_amount = int(input(f\"How many {product} do you want to buy? \"))\n",
    "                    if customer_amount > inventory[product]:\n",
    "                        print(f\"Sorry, we only have {inventory[product]} of {product}.\")\n",
    "                    else:\n",
    "                        customer_orders[product] = customer_amount\n",
    "                        break\n",
    "                except ValueError:\n",
    "                    print(\"Please enter a valid number.\")\n",
    "        \n",
    "        choice = input(\"Do you want to order more? (yes/no): \").lower()\n",
    "        if choice != \"yes\":\n",
    "            break\n",
    "\n",
    "    return customer_orders\n",
    "\n",
    "\n",
    "print(\"Your order is: \", customer_orders)\n",
    "\n",
    "# Get customer orders\n",
    "customer_orders = get_customer_order(inventory)\n",
    "\n",
    "# Print the customer orders\n",
    "print(\"Your order is:\", customer_orders)"
   ]
  },
  {
   "cell_type": "code",
   "execution_count": 98,
   "metadata": {},
   "outputs": [
    {
     "name": "stdout",
     "output_type": "stream",
     "text": [
      "Our current assortiment and inventory is:  {'mug': 9}\n"
     ]
    }
   ],
   "source": [
    "# Update inventory and print it\n",
    "def updated_inventory(customer_orders, inventory):\n",
    "    for product, quantity in customer_orders.items(): \n",
    "        inventory[product] -= quantity\n",
    "    return inventory\n",
    "\n",
    "# Update inventory and print it\n",
    "updated_inventory(customer_orders, inventory)\n",
    "print(f\"Our current assortiment and inventory is: \", inventory)"
   ]
  },
  {
   "cell_type": "code",
   "execution_count": 111,
   "metadata": {},
   "outputs": [
    {
     "name": "stdout",
     "output_type": "stream",
     "text": [
      "Total amount ordered: 1\n",
      "Percentage of inventory ordered: 11.11%\n"
     ]
    }
   ],
   "source": [
    "# Function to calculate order statistics\n",
    "def calculate_order_statistics(customer_orders, inventory): \n",
    "    total_amount_ordered = sum(customer_orders.values())\n",
    "    total_initialized_amount = sum(inventory.values()) \n",
    "\n",
    "    # Avoid division by zero in percentage calculation\n",
    "    if total_initialized_amount == 0:\n",
    "        order_status = 0\n",
    "    else:\n",
    "        # Calculate the percentage of inventory ordered\n",
    "        order_status = (total_amount_ordered / total_initialized_amount) * 100\n",
    "\n",
    "    return total_amount_ordered, order_status\n",
    "\n",
    "# Assuming customer_orders is obtained from get_customer_order function\n",
    "\n",
    "total_amount_ordered, order_status = calculate_order_statistics(customer_orders, inventory)\n",
    "\n",
    "# Print results\n",
    "print(f\"Total amount ordered: {total_amount_ordered}\")\n",
    "print(f\"Percentage of inventory ordered: {order_status:.2f}%\")"
   ]
  },
  {
   "cell_type": "code",
   "execution_count": 91,
   "metadata": {},
   "outputs": [],
   "source": [
    "# 5. Define a function named print_order_statistics that takes order_statistics as a parameter. Inside the function, implement the code for printing the order statistics.\n",
    "\n",
    "def print_order_statistics(customer_orders, initialize_inventory):\n",
    "    total_amount_ordered, order_status = calculate_order_statistics(customer_orders, initialize_inventory)\n",
    "    print(f\"You have ordered {total_amount_ordered} products which makes {order_status:.2f}% of the total\")\n",
    "\n",
    "# 6. Define a function named print_updated_inventory that takes inventory as a parameter. Inside the function, implement the code for printing the updated inventory.\n",
    "def print_updated_inventory(inventory):\n",
    "    print(\"This is the new inventory:\")\n",
    "    for item, quantity in inventory.items():\n",
    "        print(f\"{item}: {quantity}\")"
   ]
  },
  {
   "cell_type": "code",
   "execution_count": 92,
   "metadata": {},
   "outputs": [
    {
     "name": "stdout",
     "output_type": "stream",
     "text": [
      "You have ordered 7 products which makes 233.33% of the total\n",
      "This is the new inventory:\n",
      "mug: 3\n"
     ]
    }
   ],
   "source": [
    "\n",
    "print_order_statistics(customer_orders, inventory)\n",
    "print_updated_inventory(inventory)"
   ]
  }
 ],
 "metadata": {
  "kernelspec": {
   "display_name": "base",
   "language": "python",
   "name": "python3"
  },
  "language_info": {
   "codemirror_mode": {
    "name": "ipython",
    "version": 3
   },
   "file_extension": ".py",
   "mimetype": "text/x-python",
   "name": "python",
   "nbconvert_exporter": "python",
   "pygments_lexer": "ipython3",
   "version": "3.12.7"
  }
 },
 "nbformat": 4,
 "nbformat_minor": 2
}
